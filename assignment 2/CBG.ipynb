{
 "cells": [
  {
   "cell_type": "markdown",
   "metadata": {},
   "source": [
    "# 关联规则挖掘\n",
    "## 1. 数据预处理"
   ]
  },
  {
   "cell_type": "code",
   "execution_count": 111,
   "metadata": {},
   "outputs": [],
   "source": [
    "import pandas as pd\n",
    "import numpy as np\n",
    "import json\n",
    "import time\n",
    "import matplotlib.pyplot as plt\n",
    "from collections import defaultdict\n",
    "import scipy.stats as spss\n",
    "import seaborn as sns\n",
    "import pyfpgrowth\n",
    "# 导入相关库\n",
    "\n",
    "def converter(x):\n",
    "    \"\"\"\n",
    "    数据预处理，用于将缺失值转化为Nan，便于后续统计\n",
    "    \"\"\"\n",
    "    x = json.loads(x)\n",
    "    if not x:\n",
    "        x = np.nan\n",
    "    \n",
    "    return x\n",
    "\n",
    "converters = {\n",
    "    \"census_block_group\": lambda x: str(x) if x else np.nan,  # 因为这是unique id，有前置0位，所以转化为string处理\n",
    "    \"visitor_home_cbgs\": converter,  # 使用自定义转换器\n",
    "    \"visitor_work_cbgs\": converter, \n",
    "    \"related_same_day_brand\": converter,\n",
    "    \"related_same_month_brand\": converter,\n",
    "    \"top_brands\": converter,\n",
    "    \"popularity_by_hour\": converter,\n",
    "    \"popularity_by_day\": converter\n",
    "}\n",
    "\n",
    "dataset = pd.read_csv(\"data.csv\", converters=converters)"
   ]
  },
  {
   "cell_type": "markdown",
   "metadata": {},
   "source": [
    "> 考虑到数据集较大，属性较多，所以这里选择更为明显的属性——`related_same_month_brand`进行挖掘，以期取得更好的效果\n",
    "> 在数据集读入时对缺失值进行转化处理，便于后面的使用。"
   ]
  },
  {
   "cell_type": "code",
   "execution_count": 162,
   "metadata": {},
   "outputs": [],
   "source": [
    "transactions = dataset.related_same_month_brand.dropna()"
   ]
  },
  {
   "cell_type": "markdown",
   "metadata": {},
   "source": [
    "> 对数据进行缺失值处理，最初填充的`Nan`在数据结构上来说属于float类型，与string类型进行比较时会出现错误"
   ]
  },
  {
   "cell_type": "markdown",
   "metadata": {},
   "source": [
    "## 2. 频繁集挖掘"
   ]
  },
  {
   "cell_type": "code",
   "execution_count": 279,
   "metadata": {},
   "outputs": [
    {
     "name": "stdout",
     "output_type": "stream",
     "text": [
      "Time cost of mining frequent items: 1.2554330825805664\n"
     ]
    }
   ],
   "source": [
    "from fp_growth import *\n",
    "start_time = time.time()\n",
    "patterns = dict()\n",
    "\n",
    "min_support = 0.2  # 最小支持度设定\n",
    "pattern_generator = find_frequent_itemsets(transactions, minimum_support=min_support*len(transactions), include_support=True)\n",
    "for item_list, support in pattern_generator:\n",
    "    patterns[frozenset(item_list)] = support\n",
    "print(f\"Time cost of mining frequent items: {time.time() - start_time}\")"
   ]
  },
  {
   "cell_type": "markdown",
   "metadata": {},
   "source": [
    "> 使用fp_growth算法对频繁项进行挖掘，并计算时间消耗, 考虑到数据集容量较大，所以最小支持度设计为40000，大约在整个数据集中占比20%，得到的频繁项集\n",
    "> 实现过程中参考了以下资料\n",
    "> 1. https://www.ibm.com/developerworks/cn/analytics/library/machine-learning-hands-on2-fp-growth/index.html\n",
    "> 2. 《Machine learning in action》\n",
    "> 3. https://github.com/Nana0606/python3-fp-growth"
   ]
  },
  {
   "cell_type": "code",
   "execution_count": 258,
   "metadata": {},
   "outputs": [],
   "source": [
    "def group_patterns_by_length(patterns):\n",
    "    result = defaultdict(list)\n",
    "    for pattern, support in patterns.items():\n",
    "        result[len(pattern)].append((pattern, support))\n",
    "    return result"
   ]
  },
  {
   "cell_type": "code",
   "execution_count": 280,
   "metadata": {},
   "outputs": [],
   "source": [
    "patterns_group = group_patterns_by_length(patterns)"
   ]
  },
  {
   "cell_type": "markdown",
   "metadata": {},
   "source": [
    "> 将得到的频繁项按长度进行分类，便于后续的可视化操作"
   ]
  },
  {
   "cell_type": "markdown",
   "metadata": {},
   "source": [
    "## 3. 关联规则生成"
   ]
  },
  {
   "cell_type": "code",
   "execution_count": 367,
   "metadata": {},
   "outputs": [
    {
     "name": "stdout",
     "output_type": "stream",
     "text": [
      "(frozenset({'walmart', 'SUBWAY'}), frozenset({'mcdonalds'}), 0.9937483288557277)\n",
      "(frozenset({'BP'}), frozenset({'mcdonalds'}), 0.9857894392176552)\n",
      "(frozenset({'SUBWAY'}), frozenset({'mcdonalds'}), 0.984743888020138)\n",
      "(frozenset({'walmart', 'Chick-fil-A'}), frozenset({'mcdonalds'}), 0.9846857908248688)\n",
      "(frozenset({'walmart', 'starbucks'}), frozenset({'mcdonalds'}), 0.9843985616517805)\n",
      "(frozenset({'walmart', 'Shell Oil'}), frozenset({'mcdonalds'}), 0.9834750764202052)\n",
      "(frozenset({'walmart', 'Dollar General'}), frozenset({'mcdonalds'}), 0.9830359852956055)\n",
      "(frozenset({'walmart'}), frozenset({'mcdonalds'}), 0.9814112822260218)\n",
      "(frozenset({'Dollar General'}), frozenset({'mcdonalds'}), 0.9782544572627163)\n",
      "(frozenset({'Chick-fil-A'}), frozenset({'mcdonalds'}), 0.9780446333687567)\n",
      "(frozenset({'Walgreens'}), frozenset({'mcdonalds'}), 0.9775020317548415)\n",
      "(frozenset({'mcdonalds', 'Dollar General'}), frozenset({'walmart'}), 0.9765314839941706)\n",
      "(frozenset({'Dollar General'}), frozenset({'walmart'}), 0.9717815941269009)\n",
      "(frozenset({'Shell Oil'}), frozenset({'mcdonalds'}), 0.966427289048474)\n",
      "(frozenset({'mcdonalds', 'Chick-fil-A'}), frozenset({'walmart'}), 0.9585370623899863)\n",
      "(frozenset({'Target'}), frozenset({'mcdonalds'}), 0.957291897072919)\n",
      "(frozenset({'Dollar General'}), frozenset({'walmart', 'mcdonalds'}), 0.9552962768746722)\n",
      "(frozenset({'starbucks'}), frozenset({'mcdonalds'}), 0.9551669529141481)\n",
      "(frozenset({'Chick-fil-A'}), frozenset({'walmart'}), 0.9520722635494155)\n",
      "(frozenset({\"Dunkin' Donuts\"}), frozenset({'mcdonalds'}), 0.9499410958110431)\n",
      "(frozenset({'Chick-fil-A'}), frozenset({'walmart', 'mcdonalds'}), 0.9374920297555792)\n",
      "(frozenset({'Chevron'}), frozenset({'mcdonalds'}), 0.9353029010238908)\n",
      "(frozenset({'mcdonalds', 'Shell Oil'}), frozenset({'walmart'}), 0.8623709561848146)\n",
      "(frozenset({'Shell Oil'}), frozenset({'walmart'}), 0.8474224160041036)\n",
      "(frozenset({'Shell Oil'}), frozenset({'walmart', 'mcdonalds'}), 0.8334188253398307)\n",
      "(frozenset({'mcdonalds'}), frozenset({'walmart'}), 0.7813096426045593)\n",
      "(frozenset({'mcdonalds', 'SUBWAY'}), frozenset({'walmart'}), 0.7557225299198265)\n",
      "(frozenset({'SUBWAY'}), frozenset({'walmart'}), 0.7488748617414852)\n",
      "(frozenset({'SUBWAY'}), frozenset({'walmart', 'mcdonalds'}), 0.7441931423776651)\n"
     ]
    }
   ],
   "source": [
    "def generate_rules(patterns, min_confidence):\n",
    "    patterns_group = group_patterns_by_length(patterns)\n",
    "    raw_rules = defaultdict(set)\n",
    "    for length, pattern_list in patterns_group.items():\n",
    "        if length == 1:\n",
    "            continue\n",
    "        for pattern, support in pattern_list:\n",
    "            item_list = list(pattern)\n",
    "            for window_size in range(1, length):\n",
    "                for i in range(0, length - window_size):\n",
    "                    for j in range(i + window_size, length):\n",
    "                        base_set = frozenset(item_list[i:j])\n",
    "                        predict_set = frozenset(pattern - base_set)\n",
    "                        confidence = support / patterns.get(base_set)\n",
    "                        if confidence > min_confidence:\n",
    "                            raw_rules[base_set].add((predict_set, confidence))\n",
    "\n",
    "                        base_set, predict_set = predict_set, base_set\n",
    "                        confidence = support / patterns.get(base_set)\n",
    "                        if confidence > min_confidence:\n",
    "                            raw_rules[base_set].add((predict_set, confidence))\n",
    "    return raw_rules\n",
    "\n",
    "def transform(raw_rules):\n",
    "    result = list()\n",
    "    for base_set, predict_set_list in raw_rules.items():\n",
    "        for predict_set, confidence in predict_set_list:\n",
    "            result.append((base_set, predict_set, confidence))\n",
    "    \n",
    "    return result\n",
    "\n",
    "raw_rules = generate_rules(patterns, 0.7)\n",
    "rules = transform(raw_rules)\n",
    "rules.sort(key=lambda x: x[2], reverse=True)\n",
    "for rule in rules:\n",
    "    print(rule)"
   ]
  },
  {
   "cell_type": "markdown",
   "metadata": {},
   "source": [
    "> 前面频繁项集已经生成，关联规则的挖掘可以通过对频繁项集的遍历得到，这里使用滑动窗口的算法对关联规则进行挖掘，并对最后得到的结果按照置信度进行排序，置信度阈值设定为0.7"
   ]
  },
  {
   "cell_type": "markdown",
   "metadata": {},
   "source": [
    "## 4. 关联规则评价"
   ]
  },
  {
   "cell_type": "code",
   "execution_count": 375,
   "metadata": {},
   "outputs": [],
   "source": [
    "def count_lift(patterns, base, predict):\n",
    "    a = patterns.get(base)\n",
    "    b = patterns.get(predict)\n",
    "    a_b = patterns.get(base.union(predict))\n",
    "    return a_b * len(transactions) / (a * b)\n",
    "\n",
    "def count_kulc(patterns, base, predict):\n",
    "    a = patterns.get(base)\n",
    "    b = patterns.get(predict)\n",
    "    a_b = patterns.get(base.union(predict))\n",
    "    return 1/2 * (a_b / b + a_b / a)"
   ]
  },
  {
   "cell_type": "code",
   "execution_count": 378,
   "metadata": {},
   "outputs": [
    {
     "name": "stdout",
     "output_type": "stream",
     "text": [
      "confidence: 0.99375 , lift: 1.04821 , kulc: 0.68591  rule: frozenset({'walmart', 'SUBWAY'}) --> frozenset({'mcdonalds'})\n",
      "confidence: 0.98579 , lift: 1.03982 , kulc: 0.60227  rule: frozenset({'BP'}) --> frozenset({'mcdonalds'})\n",
      "confidence: 0.98474 , lift: 1.03871 , kulc: 0.74251  rule: frozenset({'SUBWAY'}) --> frozenset({'mcdonalds'})\n",
      "confidence: 0.98469 , lift: 1.03865 , kulc: 0.59918  rule: frozenset({'walmart', 'Chick-fil-A'}) --> frozenset({'mcdonalds'})\n",
      "confidence: 0.9844  , lift: 1.03835 , kulc: 0.61553  rule: frozenset({'walmart', 'starbucks'}) --> frozenset({'mcdonalds'})\n",
      "confidence: 0.98348 , lift: 1.03738 , kulc: 0.64915  rule: frozenset({'walmart', 'Shell Oil'}) --> frozenset({'mcdonalds'})\n",
      "confidence: 0.98304 , lift: 1.03691 , kulc: 0.63271  rule: frozenset({'walmart', 'Dollar General'}) --> frozenset({'mcdonalds'})\n",
      "confidence: 0.98141 , lift: 1.0352  , kulc: 0.88136  rule: frozenset({'walmart'}) --> frozenset({'mcdonalds'})\n",
      "confidence: 0.97825 , lift: 1.03187 , kulc: 0.63372  rule: frozenset({'Dollar General'}) --> frozenset({'mcdonalds'})\n",
      "confidence: 0.97804 , lift: 1.03165 , kulc: 0.60048  rule: frozenset({'Chick-fil-A'}) --> frozenset({'mcdonalds'})\n",
      "confidence: 0.9775  , lift: 1.03107 , kulc: 0.60819  rule: frozenset({'Walgreens'}) --> frozenset({'mcdonalds'})\n",
      "confidence: 0.97653 , lift: 1.29386 , kulc: 0.66562  rule: frozenset({'mcdonalds', 'Dollar General'}) --> frozenset({'walmart'})\n",
      "confidence: 0.97178 , lift: 1.28756 , kulc: 0.66631  rule: frozenset({'Dollar General'}) --> frozenset({'walmart'})\n",
      "confidence: 0.96643 , lift: 1.01939 , kulc: 0.66574  rule: frozenset({'Shell Oil'}) --> frozenset({'mcdonalds'})\n",
      "confidence: 0.95854 , lift: 1.27002 , kulc: 0.61346  rule: frozenset({'mcdonalds', 'Chick-fil-A'}) --> frozenset({'walmart'})\n",
      "confidence: 0.95729 , lift: 1.00976 , kulc: 0.60443  rule: frozenset({'Target'}) --> frozenset({'mcdonalds'})\n",
      "confidence: 0.9553  , lift: 1.2897  , kulc: 0.65836  rule: frozenset({'Dollar General'}) --> frozenset({'walmart', 'mcdonalds'})\n",
      "confidence: 0.95517 , lift: 1.00752 , kulc: 0.68502  rule: frozenset({'starbucks'}) --> frozenset({'mcdonalds'})\n",
      "confidence: 0.95207 , lift: 1.26145 , kulc: 0.61232  rule: frozenset({'Chick-fil-A'}) --> frozenset({'walmart'})\n",
      "confidence: 0.94994 , lift: 1.002   , kulc: 0.5941   rule: frozenset({\"Dunkin' Donuts\"}) --> frozenset({'mcdonalds'})\n",
      "confidence: 0.93749 , lift: 1.26566 , kulc: 0.60548  rule: frozenset({'Chick-fil-A'}) --> frozenset({'walmart', 'mcdonalds'})\n",
      "confidence: 0.9353  , lift: 0.98656 , kulc: 0.57385  rule: frozenset({'Chevron'}) --> frozenset({'mcdonalds'})\n",
      "confidence: 0.86237 , lift: 1.1426  , kulc: 0.62891  rule: frozenset({'mcdonalds', 'Shell Oil'}) --> frozenset({'walmart'})\n",
      "confidence: 0.84742 , lift: 1.12279 , kulc: 0.62476  rule: frozenset({'Shell Oil'}) --> frozenset({'walmart'})\n",
      "confidence: 0.83342 , lift: 1.12516 , kulc: 0.61818  rule: frozenset({'Shell Oil'}) --> frozenset({'walmart', 'mcdonalds'})\n",
      "confidence: 0.78131 , lift: 1.0352  , kulc: 0.88136  rule: frozenset({'mcdonalds'}) --> frozenset({'walmart'})\n",
      "confidence: 0.75572 , lift: 1.0013  , kulc: 0.61531  rule: frozenset({'mcdonalds', 'SUBWAY'}) --> frozenset({'walmart'})\n",
      "confidence: 0.74887 , lift: 0.99222 , kulc: 0.61338  rule: frozenset({'SUBWAY'}) --> frozenset({'walmart'})\n",
      "confidence: 0.74419 , lift: 1.0047  , kulc: 0.61404  rule: frozenset({'SUBWAY'}) --> frozenset({'walmart', 'mcdonalds'})\n"
     ]
    }
   ],
   "source": [
    "for base, predict, confidence in rules:\n",
    "    print(f\"confidence: {round(confidence, 5):<8}, lift: {round(count_lift(patterns, base, predict), 5):<8}, kulc: {round(count_kulc(patterns, base, predict), 5):<8} rule: {base} --> {predict}\")"
   ]
  },
  {
   "cell_type": "markdown",
   "metadata": {},
   "source": [
    "> 计算了lift与kulc作为规则的评价标准，可以看到规则`('mcdonalds',) --> ('walmart',)`是负提升度规则，应当在最后的规则中加以说明"
   ]
  },
  {
   "cell_type": "markdown",
   "metadata": {},
   "source": [
    "## 5. 结果可视化"
   ]
  },
  {
   "cell_type": "code",
   "execution_count": 398,
   "metadata": {},
   "outputs": [
    {
     "name": "stdout",
     "output_type": "stream",
     "text": [
      "Time cost of mining frequent items: 1.3025190830230713\n"
     ]
    },
    {
     "data": {
      "text/plain": [
       "29"
      ]
     },
     "execution_count": 398,
     "metadata": {},
     "output_type": "execute_result"
    }
   ],
   "source": [
    "def judge(transactions, min_support, min_confidence):\n",
    "    start_time = time.time()\n",
    "    patterns = dict()\n",
    "\n",
    "    pattern_generator = find_frequent_itemsets(transactions, minimum_support=min_support*len(transactions), include_support=True)\n",
    "    for item_list, support in pattern_generator:\n",
    "        patterns[frozenset(item_list)] = support\n",
    "    print(f\"Time cost of mining frequent items: {time.time() - start_time}\")\n",
    "    mining_frequent_time = time.time()\n",
    "    \n",
    "    raw_rules = generate_rules(patterns, min_confidence)\n",
    "\n",
    "    rules = transform(raw_rules)\n",
    "    rules.sort(key=lambda x: x[2], reverse=True)\n",
    "    \n",
    "    mining_rules_time = time.time()\n",
    "\n",
    "    good_rule_num = 0\n",
    "    bad_rule_num = 0\n",
    "    \n",
    "    lift_list = list()\n",
    "    kulc_list = list()\n",
    "    \n",
    "    for rule in rules:\n",
    "        base, predict, _ = rule\n",
    "        lift = count_lift(patterns, base, predict)\n",
    "        if  lift < 1:\n",
    "            bad_rule_num += 1\n",
    "        elif lift > 2:\n",
    "            good_rule_num += 1\n",
    "\n",
    "        lift_list.append(lift)\n",
    "        kulc_list.append(count_kulc(patterns, base, predict))\n",
    "\n",
    "    result = {\n",
    "        'mining_frequent_time': mining_frequent_time - start_time,\n",
    "        'mining_rules_time': mining_rules_time - mining_frequent_time,\n",
    "        'min_support': min_support,\n",
    "        'min_confidence': min_confidence,\n",
    "        'good_rule_num': good_rule_num,\n",
    "        'bad_rule_num': bad_rule_num,\n",
    "        'rules': rules,\n",
    "        'lift_list': lift_list,\n",
    "        'kulc_list': kulc_list\n",
    "    }\n",
    "\n",
    "    return result\n",
    "\n",
    "len(judge(transactions, 0.2, 0.7)['rules'])"
   ]
  },
  {
   "cell_type": "markdown",
   "metadata": {},
   "source": [
    "> 对上述操作进行封装，便于对不同参数下的结果进行比较"
   ]
  },
  {
   "cell_type": "code",
   "execution_count": null,
   "metadata": {},
   "outputs": [],
   "source": [
    "result_list = list()\n",
    "count = 0\n",
    "for min_support in range(10):\n",
    "    for min_confidence in range(10):\n",
    "        result_list.append(judge(transactions, 0.05 + min_support * 0.05, 0.4 + min_confidence * 0.05))\n",
    "        count += 1\n",
    "        print(count)"
   ]
  },
  {
   "cell_type": "markdown",
   "metadata": {},
   "source": [
    "> 在最小支持度0.05 - 0.5，及最小置信度0.4 - 0.85的范围内，每隔0.05挖掘一次关联规则，得到100份样本数据，并记录相关数据。"
   ]
  },
  {
   "cell_type": "code",
   "execution_count": 406,
   "metadata": {},
   "outputs": [],
   "source": [
    "result_dataframe = pd.DataFrame(columns=['min_support', 'min_confidence', 'mining_frequence_time', 'mining_rules_time', 'good_rule_num', 'bad_rule_num', 'confidence_list', 'lift_list', 'kulc_list'])\n",
    "for line, data in enumerate(result_list):\n",
    "    confidence_list = list()\n",
    "    for rule in data['rules']:\n",
    "        confidence_list.append(rule[2])\n",
    "    row = {\n",
    "        'min_support': data['min_support'],\n",
    "        'min_confidence': data['min_confidence'],\n",
    "        'mining_frequence_time': data['mining_frequent_time'],\n",
    "        'mining_rules_time': data['mining_rules_time'],\n",
    "        'good_rule_num': data['good_rule_num'],\n",
    "        'bad_rule_num': data['bad_rule_num'],\n",
    "        'confidence_list': confidence_list,\n",
    "        'lift_list': data['lift_list'],\n",
    "        'kulc_list': data['kulc_list']\n",
    "    }\n",
    "    \n",
    "    result_dataframe.loc[line] = row"
   ]
  },
  {
   "cell_type": "markdown",
   "metadata": {},
   "source": [
    "> 对数据的结果进行处理，得到dataframe形式的结果，便于后续的可视化操作"
   ]
  },
  {
   "cell_type": "code",
   "execution_count": null,
   "metadata": {},
   "outputs": [],
   "source": [
    "result_dataframe = result_dataframe.astype({'good_rule_num': 'int', 'bad_rule_num': 'int'}, copy=False)"
   ]
  },
  {
   "cell_type": "markdown",
   "metadata": {},
   "source": [
    "> 最初得到的结果中，数据类型存在一定的问题，需要转换"
   ]
  },
  {
   "cell_type": "code",
   "execution_count": 422,
   "metadata": {},
   "outputs": [
    {
     "data": {
      "text/plain": [
       "<matplotlib.axes._subplots.AxesSubplot at 0x1e9d31e9208>"
      ]
     },
     "execution_count": 422,
     "metadata": {},
     "output_type": "execute_result"
    },
    {
     "data": {
      "image/png": "[encoded data removed]",
      "text/plain": [
       "<Figure size 432x288 with 1 Axes>"
      ]
     },
     "metadata": {
      "needs_background": "light"
     },
     "output_type": "display_data"
    }
   ],
   "source": [
    "result_dataframe.plot.scatter('good_rule_num', 'bad_rule_num')"
   ]
  },
  {
   "cell_type": "markdown",
   "metadata": {},
   "source": [
    "> 横坐标为lift值超过2的关系规则的数目，纵坐标为lift值小于1的关系规则的数目。可以看到，在一百次的变参实验中，好坏规则出现的规律基本成正比，且多集中在40-100以内，说明挖掘得到的关联规则中，负关联性的规则伴随着强关联性的规则出现，且成正比"
   ]
  },
  {
   "cell_type": "code",
   "execution_count": 502,
   "metadata": {},
   "outputs": [],
   "source": [
    "rules_sum = [len(ele) for ele in result_dataframe.confidence_list]\n",
    "result_dataframe['rules_sum'] = rules_sum\n",
    "result_dataframe['min_support'] = [round(ele, 4) for ele in result_dataframe.min_support]\n",
    "result_dataframe['min_confidence'] = [round(ele, 4) for ele in result_dataframe.min_confidence]"
   ]
  },
  {
   "cell_type": "code",
   "execution_count": 505,
   "metadata": {},
   "outputs": [
    {
     "data": {
      "text/plain": [
       "<matplotlib.axes._subplots.AxesSubplot at 0x1ea2807f668>"
      ]
     },
     "execution_count": 505,
     "metadata": {},
     "output_type": "execute_result"
    },
    {
     "data": {
      "image/png": "[encoded data removed]",
      "text/plain": [
       "<Figure size 1080x576 with 2 Axes>"
      ]
     },
     "metadata": {
      "needs_background": "light"
     },
     "output_type": "display_data"
    }
   ],
   "source": [
    "fig = plt.figure()\n",
    "fig.set_size_inches(15, 8)\n",
    "ax = fig.add_subplot(1, 2, 1, xlabel='min_support', ylabel='sum of rules')\n",
    "sns.barplot(x = 'min_support', y = 'rules_sum', data = result_dataframe, color = 'black', ax=ax)\n",
    "ax = fig.add_subplot(1, 2, 2, xlabel='min_confidence', ylabel='sum of rules')\n",
    "sns.barplot(x = 'min_confidence', y = 'rules_sum', data = result_dataframe, color = 'black', ax=ax)"
   ]
  },
  {
   "cell_type": "markdown",
   "metadata": {},
   "source": [
    "> 上面两张图是最小支持度和置信度限制对规则数量变化的关系，可以看到，支持度对规则数量的影响明显大于置信度"
   ]
  },
  {
   "cell_type": "code",
   "execution_count": 508,
   "metadata": {},
   "outputs": [
    {
     "data": {
      "text/plain": [
       "<matplotlib.axes._subplots.AxesSubplot at 0x1ea28a80828>"
      ]
     },
     "execution_count": 508,
     "metadata": {},
     "output_type": "execute_result"
    },
    {
     "data": {
      "image/png": "[encoded data removed]",
      "text/plain": [
       "<Figure size 1080x576 with 2 Axes>"
      ]
     },
     "metadata": {
      "needs_background": "light"
     },
     "output_type": "display_data"
    }
   ],
   "source": [
    "fig = plt.figure()\n",
    "fig.set_size_inches(15, 8)\n",
    "ax = fig.add_subplot(1, 2, 1, xlabel='min_support', ylabel='time cost')\n",
    "sns.barplot(x = 'min_support', y = 'mining_frequence_time', data = result_dataframe, ax=ax)\n",
    "ax = fig.add_subplot(1, 2, 2, xlabel='min_confidence', ylabel='time cost')\n",
    "sns.barplot(x = 'min_confidence', y = 'mining_rules_time', data = result_dataframe, ax=ax)"
   ]
  },
  {
   "cell_type": "markdown",
   "metadata": {},
   "source": [
    "> 以上考察置信度与支持度不同，对程序运行时间的影响，可以看到，随着支持度的上升，程序运行时间有着明显的下降趋势，但是置信度却在中间值部分呈现较好的效率，这对于挖掘过程中的调参处理有一定的帮助，可以从图中看出，置信度0.65，支持度0.25能较快的完成关系的挖掘"
   ]
  },
  {
   "cell_type": "markdown",
   "metadata": {},
   "source": [
    "以上为作业小结"
   ]
  },
  {
   "cell_type": "code",
   "execution_count": null,
   "metadata": {},
   "outputs": [],
   "source": []
  }
 ],
 "metadata": {
  "kernelspec": {
   "display_name": "Python 3",
   "language": "python",
   "name": "python3"
  },
  "language_info": {
   "codemirror_mode": {
    "name": "ipython",
    "version": 3
   },
   "file_extension": ".py",
   "mimetype": "text/x-python",
   "name": "python",
   "nbconvert_exporter": "python",
   "pygments_lexer": "ipython3",
   "version": "3.7.1"
  }
 },
 "nbformat": 4,
 "nbformat_minor": 2
}
