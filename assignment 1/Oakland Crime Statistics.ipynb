{
 "cells": [
  {
   "cell_type": "markdown",
   "metadata": {},
   "source": [
    "# 数据探索性分析与数据预处理\n",
    "## 1. 数据可视化和摘要\n",
    "### 数据摘要"
   ]
  },
  {
   "cell_type": "markdown",
   "metadata": {},
   "source": [
    "* 读入数据，并识别缺失值"
   ]
  },
  {
   "cell_type": "code",
   "execution_count": 1,
   "metadata": {},
   "outputs": [],
   "source": [
    "import pandas as pd\n",
    "import numpy as np\n",
    "import json\n",
    "import os\n",
    "import re\n",
    "import matplotlib.pyplot as plt\n",
    "from collections import defaultdict\n",
    "import scipy.stats as spss\n",
    "import seaborn as sns"
   ]
  },
  {
   "cell_type": "code",
   "execution_count": 2,
   "metadata": {},
   "outputs": [],
   "source": [
    "data_path = \"data\"\n",
    "file_list = os.listdir(data_path + os.sep)\n",
    "\n",
    "dataset = None\n",
    "date_columns = ['Create Time', 'Closed Time']\n",
    "\n",
    "for file_path in file_list:\n",
    "    if not isinstance(dataset, pd.DataFrame):\n",
    "        dataset = pd.read_csv(data_path + os.sep + file_path, parse_dates=date_columns)\n",
    "\n",
    "    else:\n",
    "        temp_dataset = pd.read_csv(data_path + os.sep + file_path, parse_dates=date_columns)\n",
    "        temp_dataset.rename({'Location 1': 'Location', 'Location ': 'Location'}, axis=1, inplace=True)\n",
    "        dataset = pd.concat([dataset, temp_dataset], ignore_index=True, sort=False)\n"
   ]
  },
  {
   "cell_type": "code",
   "execution_count": 172,
   "metadata": {},
   "outputs": [],
   "source": [
    "pattern = re.compile('\"address\":\"(.*?)\"')\n",
    "\n",
    "def f(x):\n",
    "    result = re.search(pattern, x)\n",
    "    if not result:\n",
    "        if not x:\n",
    "            return np.nan\n",
    "        else:\n",
    "            return x.strip()\n",
    "    else:\n",
    "        return result[1].strip()\n",
    "\n",
    "dataset['Location'] = dataset['Location'].apply(f)  # 清理数据，部分数据集的Location属性以dict形式进行存储，且存储方式不符合json的标准化，所以使用正则表达式进行提纯\n",
    "dataset.name = \"Origin Dataset\""
   ]
  },
  {
   "cell_type": "markdown",
   "metadata": {},
   "source": [
    "* 标称属性的统计"
   ]
  },
  {
   "cell_type": "code",
   "execution_count": 217,
   "metadata": {},
   "outputs": [
    {
     "name": "stdout",
     "output_type": "stream",
     "text": [
      "INTERNATIONAL BLVD       20735\n",
      "MACARTHUR BLVD           17196\n",
      "BROADWAY                 12214\n",
      "AV&INTERNATIONAL BLVD    11407\n",
      "FOOTHILL BLVD             9669\n",
      "Name: Location, dtype: int64\n",
      "1.0    290452\n",
      "2.0    236700\n",
      "P3     129054\n",
      "P1     114560\n",
      "P2      53033\n",
      "Name: Area Id, dtype: int64\n",
      "04X    43626\n",
      "08X    38097\n",
      "30Y    30880\n",
      "26Y    30377\n",
      "30X    29881\n",
      "Name: Beat, dtype: int64\n",
      "2.0    814818\n",
      "1.0    231542\n",
      "0.0        24\n",
      "Name: Priority, dtype: int64\n",
      "933R     98497\n",
      "SECCK    70965\n",
      "415      66720\n",
      "911H     54935\n",
      "10851    47958\n",
      "Name: Incident Type Id, dtype: int64\n",
      "ALARM-RINGER            98497\n",
      "SECURITY CHECK          70965\n",
      "911 HANG-UP             54935\n",
      "STOLEN VEHICLE          47958\n",
      "DISTURBING THE PEACE    38257\n",
      "Name: Incident Type Description, dtype: int64\n",
      "LOP111209000028    1\n",
      "LOP131008000605    1\n",
      "LOP150402000474    1\n",
      "LOP120206000697    1\n",
      "LOP130617000531    1\n",
      "Name: Event Number, dtype: int64\n"
     ]
    }
   ],
   "source": [
    "nominal_attributes = ['Location', 'Area Id', 'Beat', 'Priority', 'Incident Type Id', 'Incident Type Description', 'Event Number']\n",
    "\n",
    "for attribute in nominal_attributes:\n",
    "    print(dataset[attribute].value_counts().head())"
   ]
  },
  {
   "cell_type": "markdown",
   "metadata": {},
   "source": [
    "> 以上是对所有标称属性的统计，考虑到版面的问题，只打印了统计频数的前五个最大值"
   ]
  },
  {
   "cell_type": "markdown",
   "metadata": {},
   "source": [
    "* 数值属性\n",
    "> 本数据集中不存在数值属性，所以无法统计"
   ]
  },
  {
   "cell_type": "markdown",
   "metadata": {},
   "source": [
    "### 数据可视化"
   ]
  },
  {
   "cell_type": "markdown",
   "metadata": {},
   "source": [
    "* 本数据中不存在数值属性，所以仅对部分标称属性的统计值绘制条形图显示"
   ]
  },
  {
   "cell_type": "code",
   "execution_count": 218,
   "metadata": {},
   "outputs": [
    {
     "name": "stdout",
     "output_type": "stream",
     "text": [
      "(130603,)\n",
      "(13,)\n",
      "(58,)\n",
      "(3,)\n",
      "(288,)\n",
      "(288,)\n",
      "(1046384,)\n"
     ]
    }
   ],
   "source": [
    "for attribute in nominal_attributes:\n",
    "    print(dataset[attribute].value_counts().shape)  # 由统计值可知，仅'Area Id', 'Priority'这两个属性有较好的可视化效果，其它的条类过多，不适合条形图显示"
   ]
  },
  {
   "cell_type": "code",
   "execution_count": 228,
   "metadata": {},
   "outputs": [
    {
     "data": {
      "image/png": "[encoded data removed]",
      "text/plain": [
       "<Figure size 1080x360 with 2 Axes>"
      ]
     },
     "metadata": {
      "needs_background": "light"
     },
     "output_type": "display_data"
    }
   ],
   "source": [
    "fig = plt.figure()\n",
    "fig.set_size_inches(15, 5)\n",
    "attributes = ['Area Id', 'Priority']\n",
    "\n",
    "for index, attribute in enumerate(attributes):\n",
    "    ax = fig.add_subplot(1, 2, index + 1)\n",
    "    dataset[attribute].value_counts().plot(kind='bar', ax=ax, title=attribute+' bar')"
   ]
  },
  {
   "cell_type": "markdown",
   "metadata": {},
   "source": [
    "## 2. 缺失数据的处理"
   ]
  },
  {
   "cell_type": "code",
   "execution_count": 246,
   "metadata": {},
   "outputs": [
    {
     "data": {
      "text/plain": [
       "Agency                            4\n",
       "Create Time                       4\n",
       "Location                        300\n",
       "Area Id                      182365\n",
       "Beat                           5805\n",
       "Priority                          4\n",
       "Incident Type Id                  4\n",
       "Incident Type Description       392\n",
       "Event Number                      4\n",
       "Closed Time                      29\n",
       "dtype: int64"
      ]
     },
     "execution_count": 246,
     "metadata": {},
     "output_type": "execute_result"
    }
   ],
   "source": [
    "dataset.isna().sum()  #缺失值统计"
   ]
  },
  {
   "cell_type": "code",
   "execution_count": 242,
   "metadata": {},
   "outputs": [],
   "source": [
    "def show(attribute):\n",
    "    return dataset[dataset[attribute].isna()]"
   ]
  },
  {
   "cell_type": "code",
   "execution_count": 280,
   "metadata": {},
   "outputs": [
    {
     "name": "stdout",
     "output_type": "stream",
     "text": [
      "Nan of Location 300: \n",
      "    Location((130602,)):\n",
      "    Area Id((13,)):\n",
      "        1.0: 24.666666666666668\n",
      "        2.0: 24.333333333333336\n",
      "        P1: 11.0\n",
      "        P3: 10.333333333333334\n",
      "        PCW: 6.0\n",
      "    Beat((58,)):\n",
      "        33X: 1.0\n",
      "        31X: 0.6666666666666667\n",
      "        24X: 0.6666666666666667\n",
      "        21Y: 0.6666666666666667\n",
      "        32Y: 0.6666666666666667\n",
      "    Priority((3,)):\n",
      "        2.0: 73.0\n",
      "        1.0: 25.666666666666664\n",
      "    Incident Type Id((288,)):\n",
      "        SECCK: 12.333333333333334\n",
      "        20002: 7.000000000000001\n",
      "        900: 6.666666666666667\n",
      "        HAZ: 5.333333333333334\n",
      "        901A: 5.0\n",
      "    Incident Type Description((288,)):\n",
      "        SECURITY CHECK: 12.333333333333334\n",
      "        HIT & RUN (PROPERTY: 7.000000000000001\n",
      "        MISCELLANEOUS/UNKNOW: 6.666666666666667\n",
      "        HAZARDOUS SITUATION/: 5.333333333333334\n",
      "        VEHICLE COLLISION-PE: 5.0\n",
      "    Event Number((1046384,)):\n",
      "        LOP130625000750: 0.33333333333333337\n",
      "        LOP130403000309: 0.33333333333333337\n",
      "        LOP150414000464: 0.33333333333333337\n",
      "        LOP110621000449: 0.33333333333333337\n",
      "        LOP110526000705: 0.33333333333333337\n",
      "Nan of Area Id 182365: \n",
      "    Location((130602,)):\n",
      "        INTERNATIONAL BLVD: 1.9274531845474736\n",
      "        AV&amp;INTERNATIONAL BLVD: 1.6839854138677925\n",
      "        MACARTHUR BLVD: 1.4427110465275683\n",
      "        BROADWAY: 1.0292545170400023\n",
      "        FOOTHILL BLVD: 0.9179392975625805\n",
      "    Area Id((13,)):\n",
      "    Beat((58,)):\n",
      "        04X: 4.096180736435171\n",
      "        08X: 3.509445343130535\n",
      "        30X: 2.9665780166150304\n",
      "        30Y: 2.926548405669948\n",
      "        23X: 2.9161297398075288\n",
      "    Priority((3,)):\n",
      "        2.0: 77.68102431935952\n",
      "        1.0: 22.316782277301016\n",
      "    Incident Type Id((288,)):\n",
      "        933R: 9.285224686754585\n",
      "        SECCK: 7.429057110739451\n",
      "        415: 6.247361061607217\n",
      "        911H: 5.061826556630932\n",
      "        10851: 4.6264359937488\n",
      "    Incident Type Description((288,)):\n",
      "        ALARM-RINGER: 9.285224686754585\n",
      "        SECURITY CHECK: 7.429057110739451\n",
      "        911 HANG-UP: 5.061826556630932\n",
      "        STOLEN VEHICLE: 4.6264359937488\n",
      "        MENTALLY ILL: 3.6443396485071147\n",
      "    Event Number((1046384,)):\n",
      "        LOP140926000013: 0.0005483508348641461\n",
      "        LOP141228000380: 0.0005483508348641461\n",
      "        LOP140408001329: 0.0005483508348641461\n",
      "        LOP140522000993: 0.0005483508348641461\n",
      "        LOP140723000326: 0.0005483508348641461\n",
      "Nan of Beat 5805: \n",
      "    Location((130602,)):\n",
      "        73RD AVE: 3.273040482342808\n",
      "        7TH STREET: 1.326442721791559\n",
      "        98TH AVE: 1.1541774332472008\n",
      "        19TH AVE: 0.9302325581395349\n",
      "        FRUITVALE AVE: 0.8957795004306632\n",
      "    Area Id((13,)):\n",
      "        1.0: 18.001722652885444\n",
      "        2.0: 15.00430663221361\n",
      "        P1: 14.435831180017228\n",
      "        P3: 10.163652024117141\n",
      "        PCW: 7.441860465116279\n",
      "    Beat((58,)):\n",
      "    Priority((3,)):\n",
      "        2.0: 87.8897502153316\n",
      "        1.0: 12.041343669250645\n",
      "    Incident Type Id((288,)):\n",
      "        SECCK: 23.290267011197244\n",
      "        900: 11.180017226528854\n",
      "        10851: 6.614987080103359\n",
      "        415: 6.270456503014643\n",
      "        911H: 4.0310077519379846\n",
      "    Incident Type Description((288,)):\n",
      "        SECURITY CHECK: 23.290267011197244\n",
      "        MISCELLANEOUS/UNKNOW: 11.180017226528854\n",
      "        STOLEN VEHICLE: 6.614987080103359\n",
      "        DISTURBING THE PEACE: 5.753660637381568\n",
      "        911 HANG-UP: 4.0310077519379846\n",
      "    Event Number((1046384,)):\n",
      "        LOP110419000752: 0.01722652885443583\n",
      "        LOP160608001087: 0.01722652885443583\n",
      "        LOP131209000914: 0.01722652885443583\n",
      "        LOP150614000687: 0.01722652885443583\n",
      "        LOP140329000381: 0.01722652885443583\n",
      "Nan of Priority 4: \n",
      "    Location((130602,)):\n",
      "    Area Id((13,)):\n",
      "    Beat((58,)):\n",
      "    Priority((3,)):\n",
      "    Incident Type Id((288,)):\n",
      "    Incident Type Description((288,)):\n",
      "    Event Number((1046384,)):\n",
      "Nan of Incident Type Id 4: \n",
      "    Location((130602,)):\n",
      "    Area Id((13,)):\n",
      "    Beat((58,)):\n",
      "    Priority((3,)):\n",
      "    Incident Type Id((288,)):\n",
      "    Incident Type Description((288,)):\n",
      "    Event Number((1046384,)):\n",
      "Nan of Incident Type Description 392: \n",
      "    Location((130602,)):\n",
      "        FAIRMONT DR: 74.74489795918367\n",
      "        98TH FAIRMONT DR: 1.2755102040816326\n",
      "        E FAIRMONT DR: 1.0204081632653061\n",
      "        73RD FAIRMONT DR: 0.7653061224489796\n",
      "        12TH FAIRMONT DR: 0.7653061224489796\n",
      "    Area Id((13,)):\n",
      "        PCW: 54.08163265306123\n",
      "        P3: 4.081632653061225\n",
      "        P1: 3.316326530612245\n",
      "        P2: 0.5102040816326531\n",
      "    Beat((58,)):\n",
      "        35Y: 65.3061224489796\n",
      "        19X: 2.295918367346939\n",
      "        24Y: 1.7857142857142856\n",
      "        05X: 1.7857142857142856\n",
      "        04X: 1.7857142857142856\n",
      "    Priority((3,)):\n",
      "        1.0: 51.275510204081634\n",
      "        2.0: 47.704081632653065\n",
      "    Incident Type Id((288,)):\n",
      "        JGP: 98.9795918367347\n",
      "    Incident Type Description((288,)):\n",
      "    Event Number((1046384,)):\n",
      "        LOP150901000394: 0.25510204081632654\n",
      "        LOP150706000214: 0.25510204081632654\n",
      "        LOP150926000722: 0.25510204081632654\n",
      "        LOP141109000395: 0.25510204081632654\n",
      "        LOP150507000504: 0.25510204081632654\n",
      "Nan of Event Number 4: \n",
      "    Location((130602,)):\n",
      "    Area Id((13,)):\n",
      "    Beat((58,)):\n",
      "    Priority((3,)):\n",
      "    Incident Type Id((288,)):\n",
      "    Incident Type Description((288,)):\n",
      "    Event Number((1046384,)):\n"
     ]
    }
   ],
   "source": [
    "for attribute in nominal_attributes:\n",
    "    result = show(attribute)\n",
    "    print(f\"Nan of {attribute} {len(dataset[dataset[attribute].isna()])}: \")\n",
    "    for compare_attribute in nominal_attributes:\n",
    "        temp = result[compare_attribute].value_counts().head() / len(result) * 100\n",
    "        print(f\"    {compare_attribute}({dataset[compare_attribute].value_counts().shape}):\")\n",
    "        for name, item in temp.items():\n",
    "            print(f\"        {name}: {item}\")"
   ]
  },
  {
   "cell_type": "markdown",
   "metadata": {},
   "source": [
    "> 以上是对所有缺失值与其它属性关系的结果打印，可以看到，Location的缺失和案件发生的地点，优先级及事件类型呈明显的聚集特性，从上述几类属性都可以发现，\n",
    "> 数据的缺失主要来自于优先级为2的部分，在各类属性的缺失值中都占到了60%以上，可以认为是案件的优先级对数据本身有影响。且incident id为JGP的案件，对应\n",
    "> 案件描述均为空，且具有地域聚集性，多出现在FAIRMONT DR，案件结案时间多为当天，可以认为案件严重性较小，所以缺少具体描述。"
   ]
  },
  {
   "cell_type": "markdown",
   "metadata": {},
   "source": [
    "* 剔除缺失值"
   ]
  },
  {
   "cell_type": "code",
   "execution_count": 137,
   "metadata": {},
   "outputs": [],
   "source": [
    "clear_dataset_1 = dataset.dropna()"
   ]
  },
  {
   "cell_type": "code",
   "execution_count": 178,
   "metadata": {},
   "outputs": [
    {
     "data": {
      "text/plain": [
       "Agency                       0\n",
       "Create Time                  0\n",
       "Location                     0\n",
       "Area Id                      0\n",
       "Beat                         0\n",
       "Priority                     0\n",
       "Incident Type Id             0\n",
       "Incident Type Description    0\n",
       "Event Number                 0\n",
       "Closed Time                  0\n",
       "dtype: int64"
      ]
     },
     "execution_count": 178,
     "metadata": {},
     "output_type": "execute_result"
    }
   ],
   "source": [
    "clear_dataset_1.isna().sum()"
   ]
  },
  {
   "cell_type": "markdown",
   "metadata": {},
   "source": [
    "* 通最高频率值来填补缺失值"
   ]
  },
  {
   "cell_type": "code",
   "execution_count": 138,
   "metadata": {},
   "outputs": [],
   "source": [
    "def fill_with_mode(series):\n",
    "    mode = series.dropna().mode()[0]\n",
    "    \n",
    "    print(f\"Mode of column {series.name} is: {mode}\")\n",
    "    return series.fillna(mode)"
   ]
  },
  {
   "cell_type": "code",
   "execution_count": 174,
   "metadata": {},
   "outputs": [
    {
     "name": "stdout",
     "output_type": "stream",
     "text": [
      "Mode of column Agency is: OP\n",
      "Mode of column Agency is: OP\n",
      "Mode of column Create Time is: 2013-01-29 09:16:31\n",
      "Mode of column Location is: INTERNATIONAL BLVD\n",
      "Mode of column Area Id is: 1.0\n",
      "Mode of column Beat is: 04X\n",
      "Mode of column Priority is: 2.0\n",
      "Mode of column Incident Type Id is: 933R\n",
      "Mode of column Incident Type Description is: ALARM-RINGER\n",
      "Mode of column Event Number is: LOP110101000001\n",
      "Mode of column Closed Time is: 2013-02-12 22:52:01\n"
     ]
    }
   ],
   "source": [
    "clear_dataset_2 = dataset.apply(fill_with_mode)\n",
    "clear_dataset_2.isna().sum()\n",
    "clear_dataset_2.name = \"Filled with mode dataset\""
   ]
  },
  {
   "cell_type": "markdown",
   "metadata": {},
   "source": [
    "* 通过数据对象之间的相似性来填补缺失值\n",
    "> 从缺失值数量来看，Area Id的缺失最多，所以下面使用决策树对Area Id进行填充，由于数据集中的属性都是标称属性，所以使用Onehot进行编码，便于决策树进行训练"
   ]
  },
  {
   "cell_type": "code",
   "execution_count": 105,
   "metadata": {},
   "outputs": [
    {
     "name": "stdout",
     "output_type": "stream",
     "text": [
      "scores of DecisionTreeClassifier is 0.4953333333333333\n"
     ]
    }
   ],
   "source": [
    "from sklearn.tree import DecisionTreeClassifier\n",
    "from sklearn.model_selection import cross_val_score\n",
    "from sklearn.preprocessing import OneHotEncoder\n",
    "from sklearn.ensemble import RandomForestClassifier\n",
    "\n",
    "clf = DecisionTreeClassifier()\n",
    "train_attributes = ['Beat', 'Incident Type Id', 'Priority', 'Location']  # 使用这四个属性对Area Id进行预测\n",
    "predict_attribute = ['Area Id', ]\n",
    "\n",
    "train_dataset_onehot = OneHotEncoder(categories='auto')\n",
    "train_predict_onehot = OneHotEncoder(categories='auto')\n",
    "\n",
    "train_dataset_onehot.fit(dataset.astype(str)[train_attributes])\n",
    "train_predict_onehot.fit(dataset[predict_attribute].dropna().astype(str))\n",
    "\n",
    "sample_dataset = dataset.dropna().sample(5000).astype(str)  # 随机采样4500个样本进行测试\n",
    "td = train_dataset_onehot.transform(sample_dataset[train_attributes]).todense()\n",
    "tp = train_predict_onehot.transform(sample_dataset[predict_attribute]).todense()\n",
    "\n",
    "scores = cross_val_score(clf, td, tp, cv=5)  # 交叉检验，分为5折\n",
    "print(f\"scores of DecisionTreeClassifier is {scores.mean()}\")"
   ]
  },
  {
   "cell_type": "markdown",
   "metadata": {},
   "source": [
    "> 从测试结果来看，分类的准确率能达到50%作为，考虑到Area Id有13个类别，这样的分类准确度基本达到了要求。\n",
    "> 这里的缺陷在于没有对案件的时间长度进行计算统计，如果将这个特征加入，效果可能还会增加，后期对大作业进行数据分析时，再加以考虑。"
   ]
  },
  {
   "cell_type": "code",
   "execution_count": 106,
   "metadata": {},
   "outputs": [
    {
     "data": {
      "text/plain": [
       "DecisionTreeClassifier(class_weight=None, criterion='gini', max_depth=None,\n",
       "            max_features=None, max_leaf_nodes=None,\n",
       "            min_impurity_decrease=0.0, min_impurity_split=None,\n",
       "            min_samples_leaf=1, min_samples_split=2,\n",
       "            min_weight_fraction_leaf=0.0, presort=False, random_state=None,\n",
       "            splitter='best')"
      ]
     },
     "execution_count": 106,
     "metadata": {},
     "output_type": "execute_result"
    }
   ],
   "source": [
    "clf.fit(td,tp)  # 训练决策树"
   ]
  },
  {
   "cell_type": "code",
   "execution_count": 158,
   "metadata": {},
   "outputs": [],
   "source": [
    "predict_index = dataset[dataset['Area Id'].isna()].notna().index\n",
    "clear_dataset_3 = dataset.copy().astype({'Area Id': str})"
   ]
  },
  {
   "cell_type": "code",
   "execution_count": 159,
   "metadata": {},
   "outputs": [],
   "source": [
    "clear_dataset_3.loc[predict_index, ['Area Id', ]] = train_predict_onehot.inverse_transform(clf.predict(train_dataset_onehot.transform(dataset.iloc[predict_index][train_attributes].astype(str))))"
   ]
  },
  {
   "cell_type": "code",
   "execution_count": 176,
   "metadata": {},
   "outputs": [
    {
     "data": {
      "text/plain": [
       "Agency                          4\n",
       "Create Time                     4\n",
       "Location                        0\n",
       "Area Id                         0\n",
       "Beat                         5805\n",
       "Priority                        4\n",
       "Incident Type Id                4\n",
       "Incident Type Description     392\n",
       "Event Number                    4\n",
       "Closed Time                    29\n",
       "dtype: int64"
      ]
     },
     "execution_count": 176,
     "metadata": {},
     "output_type": "execute_result"
    }
   ],
   "source": [
    "clear_dataset_3.isna().sum()"
   ]
  },
  {
   "cell_type": "markdown",
   "metadata": {},
   "source": [
    "> 从上述结果可以看到，所有空缺的Area Id被填充，其它属性填充方法类似，不一一展示。"
   ]
  },
  {
   "cell_type": "markdown",
   "metadata": {},
   "source": [
    "### 可视化对比新旧数据集"
   ]
  },
  {
   "cell_type": "code",
   "execution_count": 181,
   "metadata": {},
   "outputs": [
    {
     "data": {
      "image/png": "[encoded data removed]",
      "text/plain": [
       "<Figure size 1440x720 with 8 Axes>"
      ]
     },
     "metadata": {
      "needs_background": "light"
     },
     "output_type": "display_data"
    }
   ],
   "source": [
    "fig = plt.figure()\n",
    "fig.set_size_inches(20, 10)\n",
    "attributes = ['Area Id', 'Priority']\n",
    "datasets = [dataset, clear_dataset_1, clear_dataset_2, clear_dataset_3]\n",
    "\n",
    "for row, attribute in enumerate(attributes):\n",
    "    for col, data in enumerate(datasets):\n",
    "        ax = fig.add_subplot(2, 4, row * 4 + col + 1)\n",
    "        data[attribute].value_counts().plot(kind='bar', ax=ax, title=data.name + \" \" + attribute)"
   ]
  },
  {
   "cell_type": "markdown",
   "metadata": {},
   "source": [
    "> 以上是对处理以后四个数据集Area Id及Priority部分的可视化处理，可以看到，直接删除缺失值和通过决策树预测分类填充得到的数据，在Area Id属性上更符合原始数据分布，而在Priority属性上，则通过众数填充和决策树填充的数据集更接近原始数据分布，\n",
    "> 比较后发现，对于数据缺失值的处理，通过数据对象间的相似性得到的填充值更加符合原始分布。"
   ]
  },
  {
   "cell_type": "code",
   "execution_count": null,
   "metadata": {},
   "outputs": [],
   "source": []
  }
 ],
 "metadata": {
  "kernelspec": {
   "display_name": "Python 3",
   "language": "python",
   "name": "python3"
  },
  "language_info": {
   "codemirror_mode": {
    "name": "ipython",
    "version": 3
   },
   "file_extension": ".py",
   "mimetype": "text/x-python",
   "name": "python",
   "nbconvert_exporter": "python",
   "pygments_lexer": "ipython3",
   "version": "3.7.1"
  }
 },
 "nbformat": 4,
 "nbformat_minor": 2
}
